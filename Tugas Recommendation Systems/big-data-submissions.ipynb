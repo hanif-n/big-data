{
 "cells": [
  {
   "cell_type": "markdown",
   "metadata": {},
   "source": [
    "# Spark Initialization"
   ]
  },
  {
   "cell_type": "code",
   "execution_count": 1,
   "metadata": {},
   "outputs": [],
   "source": [
    "# Import findspark to read SPARK_HOME and HADOOP_HOME\n",
    "import findspark\n",
    "findspark.init()"
   ]
  },
  {
   "cell_type": "code",
   "execution_count": 2,
   "metadata": {},
   "outputs": [
    {
     "name": "stdout",
     "output_type": "stream",
     "text": [
      "<pyspark.sql.session.SparkSession object at 0x00000200AAE87630>\n"
     ]
    }
   ],
   "source": [
    "# Import SparkSession to initiate session\n",
    "from pyspark.sql import SparkSession\n",
    "\n",
    "# Create Spark Session\n",
    "spark = SparkSession.builder.appName(\"Reddit Submissions\").getOrCreate()\n",
    "\n",
    "# Print Spark object ID\n",
    "print(spark)"
   ]
  },
  {
   "cell_type": "markdown",
   "metadata": {},
   "source": [
    "# Loading Data using Spark"
   ]
  },
  {
   "cell_type": "code",
   "execution_count": 3,
   "metadata": {},
   "outputs": [],
   "source": [
    "# Dataset could be downloaded at https://snap.stanford.edu/data/web-Reddit.html\n",
    "submissions = spark.read.csv(\"D:/kuliah/bigdata/submissions.csv\", header=True, inferSchema=True)"
   ]
  },
  {
   "cell_type": "code",
   "execution_count": 4,
   "metadata": {},
   "outputs": [
    {
     "name": "stdout",
     "output_type": "stream",
     "text": [
      "+---------+----------+--------------------+--------------------+-----------+---------+-----------------+-------------------+-------------------+----------+-----+------------------+-------------------+\n",
      "|#image_id|  unixtime|             rawtime|               title|total_votes|reddit_id|number_of_upvotes|          subreddit|number_of_downvotes| localtime|score|number_of_comments|           username|\n",
      "+---------+----------+--------------------+--------------------+-----------+---------+-----------------+-------------------+-------------------+----------+-----+------------------+-------------------+\n",
      "|        0|1333172439|2012-04-01 02:50:...|And here's a down...|      63470|    rmqjs|            32657|              funny|              30813|1333197639| 1844|               622|Animates_Everything|\n",
      "|        0|1333178161|2012-04-01 04:17:...|         Expectation|         35|    rmun4|               29|           GifSound|                  6|1333203361|   23|                 3|      Gangsta_Raper|\n",
      "|        0|1333199913|2012-04-01 10:21:...|            Downvote|         41|    rna86|               32|           GifSound|                  9|1333225113|   23|                 0|      Gangsta_Raper|\n",
      "|        0|1333252330| 2012-04-02 00:52:10|Every time I down...|         10|    ro7e4|                6|           GifSound|                  4|1333277530|    2|                 0|      Gangsta_Raper|\n",
      "|        0|1333272954|2012-04-02 06:42:...|Downvote &quot;Di...|         65|    rooof|               57|           GifSound|                  8|1333298154|   49|                 0|      Gangsta_Raper|\n",
      "|        0|1333761060| 2012-04-07 22:11:00|Demolished, every...|         40|    rxwjg|               17|               gifs|                 23|1333786260|   -6|                 3|  Hellothereawesome|\n",
      "|        0|1335503834|2012-04-28 02:18:...|how i feel whenev...|        104|    svpq7|               67|fffffffuuuuuuuuuuuu|                 37|1335529034|   30|                12|               null|\n",
      "|        0|1339160075|2012-06-09 10:01:...|getting that firs...|         13|    usmxn|                5|              funny|                  8|1339185275|   -3|                 0|               null|\n",
      "|        0|1339407879|2012-06-12 07:00:...|How reddit seems ...|         14|    uwzrd|                6|              funny|                  8|1339433079|   -2|                 0|               null|\n",
      "|        0|1339425291|2012-06-12 11:46:...|Every LastAirBend...|         20|    uxf5q|                9|               pics|                 11|1339450491|   -2|                 0|        HadManySons|\n",
      "|        0|1340008115|2012-06-19 05:41:...|How I felt when i...|         21|    v8vl7|               10|               gifs|                 11|1340033315|   -1|                 0|       TraumaticASH|\n",
      "|        0|1340020566|2012-06-19 09:03:...|What r/AskReddit ...|        271|    v970d|              210|               gifs|                 61|1340045766|  149|                 5|    MidgetDance1337|\n",
      "|        0|1340084902|2012-06-20 02:57:...|My brother when h...|       8494|    vah9p|             4612|              funny|               3882|1340110102|  730|                64|             Pazzaz|\n",
      "|        0|1341036761|2012-07-01 03:21:...|The reaction i fa...|         23|    vuqcr|               15|            atheism|                  8|1341061961|    7|                 4|               null|\n",
      "|        0|1341408717|2012-07-05 10:34:...|How I feel on r/a...|         21|    w27bp|                8|              funny|                 13|1341433917|   -5|                 3|           koolkows|\n",
      "|        0|1341779603|2012-07-09 17:41:...|When I see a rage...|         24|    w9k12|               14|              funny|                 10|1341804803|    4|                 0|            Moncole|\n",
      "|        0|1342782548|2012-07-21 08:24:...|Sitting as a /new...|         21|    wwjak|                8|             gaming|                 13|1342807748|   -5|                 4|        shortguy014|\n",
      "|        0|1343172264|2012-07-25 20:33:...|How I act when I ...|         14|    x4ogv|                6|              funny|                  8|1343197464|   -2|                 0|         Killer2000|\n",
      "|        0|1343626962|2012-07-31 02:47:...|Ohhh, that's a lo...|         14|    xenyw|                7|               pics|                  7|1343652162|    0|                 0| todaysuckstomorrow|\n",
      "|        0|1344874478| 2012-08-14 13:14:38|Pretty much what ...|          1|    y6v1k|                1|               gifs|                  0|1344899678|    1|                 0|               null|\n",
      "+---------+----------+--------------------+--------------------+-----------+---------+-----------------+-------------------+-------------------+----------+-----+------------------+-------------------+\n",
      "only showing top 20 rows\n",
      "\n"
     ]
    }
   ],
   "source": [
    "# Shows top 20 of dataset loaded\n",
    "submissions.show()"
   ]
  },
  {
   "cell_type": "code",
   "execution_count": 5,
   "metadata": {},
   "outputs": [
    {
     "data": {
      "text/plain": [
       "132308"
      ]
     },
     "execution_count": 5,
     "metadata": {},
     "output_type": "execute_result"
    }
   ],
   "source": [
    "# Count number of datas in datafile loaded\n",
    "submissions.count()"
   ]
  },
  {
   "cell_type": "code",
   "execution_count": 6,
   "metadata": {},
   "outputs": [
    {
     "name": "stdout",
     "output_type": "stream",
     "text": [
      "root\n",
      " |-- #image_id: integer (nullable = true)\n",
      " |-- unixtime: integer (nullable = true)\n",
      " |-- rawtime: timestamp (nullable = true)\n",
      " |-- title: string (nullable = true)\n",
      " |-- total_votes: integer (nullable = true)\n",
      " |-- reddit_id: string (nullable = true)\n",
      " |-- number_of_upvotes: integer (nullable = true)\n",
      " |-- subreddit: string (nullable = true)\n",
      " |-- number_of_downvotes: integer (nullable = true)\n",
      " |-- localtime: integer (nullable = true)\n",
      " |-- score: integer (nullable = true)\n",
      " |-- number_of_comments: integer (nullable = true)\n",
      " |-- username: string (nullable = true)\n",
      "\n"
     ]
    }
   ],
   "source": [
    "# Shows the schema of dataset\n",
    "submissions.printSchema()"
   ]
  },
  {
   "cell_type": "code",
   "execution_count": 7,
   "metadata": {},
   "outputs": [],
   "source": [
    "# Register the DataFrame as a SQL temporary view\n",
    "submissions.createOrReplaceTempView(\"submissions\")"
   ]
  },
  {
   "cell_type": "code",
   "execution_count": 8,
   "metadata": {},
   "outputs": [
    {
     "name": "stdout",
     "output_type": "stream",
     "text": [
      "+-------------------+---------+-----+\n",
      "|           username|reddit_id|score|\n",
      "+-------------------+---------+-----+\n",
      "|Animates_Everything|    rmqjs| 1844|\n",
      "|      Gangsta_Raper|    rmun4|   23|\n",
      "|      Gangsta_Raper|    rna86|   23|\n",
      "|      Gangsta_Raper|    ro7e4|    2|\n",
      "|      Gangsta_Raper|    rooof|   49|\n",
      "|  Hellothereawesome|    rxwjg|   -6|\n",
      "|        HadManySons|    uxf5q|   -2|\n",
      "|       TraumaticASH|    v8vl7|   -1|\n",
      "|    MidgetDance1337|    v970d|  149|\n",
      "|             Pazzaz|    vah9p|  730|\n",
      "|           koolkows|    w27bp|   -5|\n",
      "|            Moncole|    w9k12|    4|\n",
      "|        shortguy014|    wwjak|   -5|\n",
      "|         Killer2000|    x4ogv|   -2|\n",
      "| todaysuckstomorrow|    xenyw|    0|\n",
      "|       LazyBurnbaby|    y7wwi|   27|\n",
      "|     azcomputerguru|    zyk4s|   22|\n",
      "|        IronOxide42|   100bfe|    4|\n",
      "|      Gangsta_Raper|   10ctqr|  181|\n",
      "|         CrowKaneII|   10llkg|   -1|\n",
      "+-------------------+---------+-----+\n",
      "only showing top 20 rows\n",
      "\n"
     ]
    }
   ],
   "source": [
    "# Use username, reddit_id, and score, remove data that contain empty username\n",
    "sub = submissions.select(\"username\", \"reddit_id\", \"score\").filter(\"username is not null\")\n",
    "\n",
    "# Show top 20 of the dataframe created\n",
    "sub.show()"
   ]
  },
  {
   "cell_type": "code",
   "execution_count": 9,
   "metadata": {},
   "outputs": [
    {
     "name": "stdout",
     "output_type": "stream",
     "text": [
      "-122\n"
     ]
    }
   ],
   "source": [
    "# Get min score in dataframe\n",
    "sub_min = sub.agg({\"score\": \"min\"}).collect()[0]\n",
    "min_score = sub_min[\"min(score)\"]\n",
    "\n",
    "# Shows min score in dataframe\n",
    "print(min_score)"
   ]
  },
  {
   "cell_type": "code",
   "execution_count": 10,
   "metadata": {},
   "outputs": [
    {
     "name": "stdout",
     "output_type": "stream",
     "text": [
      "20570\n"
     ]
    }
   ],
   "source": [
    "# Get max score in dataframe\n",
    "sub_max = sub.agg({\"score\": \"max\"}).collect()[0]\n",
    "max_score = sub_max[\"max(score)\"]\n",
    "\n",
    "# Shows max score in dataframe\n",
    "print(max_score)"
   ]
  },
  {
   "cell_type": "code",
   "execution_count": 11,
   "metadata": {},
   "outputs": [
    {
     "name": "stdout",
     "output_type": "stream",
     "text": [
      "+---------+--------------------+\n",
      "|reddit_id|    score_normalized|\n",
      "+---------+--------------------+\n",
      "|    rmqjs|  0.9501256524260583|\n",
      "|    rmun4| 0.07007539145563503|\n",
      "|    rna86| 0.07007539145563503|\n",
      "|    ro7e4|0.059926541658612026|\n",
      "|    rooof| 0.08264063406147304|\n",
      "|    rxwjg| 0.05606031316450802|\n",
      "|    uxf5q| 0.05799342741156002|\n",
      "|    v8vl7| 0.05847670597332302|\n",
      "|    v970d| 0.13096849023777304|\n",
      "|    vah9p| 0.41175333462207614|\n",
      "|    w27bp| 0.05654359172627102|\n",
      "|    w9k12| 0.06089309878213802|\n",
      "|    wwjak| 0.05654359172627102|\n",
      "|    x4ogv| 0.05799342741156002|\n",
      "|    xenyw|0.058959984535086024|\n",
      "|    y7wwi| 0.07200850570268703|\n",
      "|    zyk4s| 0.06959211289387203|\n",
      "|   100bfe| 0.06089309878213802|\n",
      "|   10ctqr| 0.14643340421418907|\n",
      "|   10llkg| 0.05847670597332302|\n",
      "+---------+--------------------+\n",
      "only showing top 20 rows\n",
      "\n"
     ]
    }
   ],
   "source": [
    "# Normalize score into scale between 0 to 10\n",
    "score_normalized = sub.select(\"reddit_id\", ((sub.score - min_score)/(max_score - min_score)*10).alias(\"score_normalized\"))\n",
    "\n",
    "# Shows 20 normalized score\n",
    "score_normalized.show()"
   ]
  },
  {
   "cell_type": "code",
   "execution_count": 12,
   "metadata": {},
   "outputs": [
    {
     "name": "stdout",
     "output_type": "stream",
     "text": [
      "+-------------+-----------+\n",
      "|     username|username_id|\n",
      "+-------------+-----------+\n",
      "|   thehugeone|          1|\n",
      "|       darmog|          2|\n",
      "|    TirSimpot|          3|\n",
      "|  DrSoccerMan|          4|\n",
      "|   btrucker94|          5|\n",
      "|     hasai185|          6|\n",
      "|  cassus_fett|          7|\n",
      "|    Avril14th|          8|\n",
      "|   ProfBurial|          9|\n",
      "|     scs22191|         10|\n",
      "|    PimpMogul|         11|\n",
      "|  rockstar107|         12|\n",
      "|   Shootemsup|         13|\n",
      "| mariohead123|         14|\n",
      "|   aaMikeyDaa|         15|\n",
      "|     mylescox|         16|\n",
      "|       SAAWKS|         17|\n",
      "| pwntuspilate|         18|\n",
      "|SpunkingCorgi|         19|\n",
      "|      battboy|         20|\n",
      "+-------------+-----------+\n",
      "only showing top 20 rows\n",
      "\n"
     ]
    }
   ],
   "source": [
    "# Username and reddit_id are in string format, so we assign id in integer for later computation\n",
    "# import functions library\n",
    "from pyspark.sql import functions\n",
    "\n",
    "# Assign id for each distinct username\n",
    "username = sub.select(\"username\").distinct()\n",
    "username_id_schema = username.withColumn(\"username_id\", functions.lit(1)).schema\n",
    "rdd_username_id = username.rdd.zipWithIndex().map(lambda row_rowId: (list(row_rowId[0]) + [row_rowId[1] + 1]))\n",
    "username_id = spark.createDataFrame(rdd_username_id, username_id_schema)\n",
    "\n",
    "# Shows 20 username an username's id\n",
    "username_id.show()"
   ]
  },
  {
   "cell_type": "code",
   "execution_count": 13,
   "metadata": {
    "scrolled": true
   },
   "outputs": [
    {
     "name": "stdout",
     "output_type": "stream",
     "text": [
      "+---------+------------+\n",
      "|reddit_id|reddit_id_id|\n",
      "+---------+------------+\n",
      "|    rptk1|           1|\n",
      "|    wpq35|           2|\n",
      "|    wf4sp|           3|\n",
      "|    msktu|           4|\n",
      "|    uj83r|           5|\n",
      "|    zxyzc|           6|\n",
      "|    wp1m6|           7|\n",
      "|    sooc3|           8|\n",
      "|    is7fw|           9|\n",
      "|   10ezo9|          10|\n",
      "|   10w6x4|          11|\n",
      "|   139mgd|          12|\n",
      "|    vm13f|          13|\n",
      "|    lnbn7|          14|\n",
      "|    zzirv|          15|\n",
      "|    ts1i6|          16|\n",
      "|    n8i70|          17|\n",
      "|    y6ool|          18|\n",
      "|    m7td1|          19|\n",
      "|    p184j|          20|\n",
      "+---------+------------+\n",
      "only showing top 20 rows\n",
      "\n"
     ]
    }
   ],
   "source": [
    "# Assign id for each distinct reddit_id\n",
    "reddit_id = sub.select(\"reddit_id\").distinct()\n",
    "reddit_id_id_schema = reddit_id.withColumn(\"reddit_id_id\", functions.lit(1)).schema\n",
    "rdd_reddit_id_id = reddit_id.rdd.zipWithIndex().map(lambda row_rowId: (list(row_rowId[0]) + [row_rowId[1] + 1]))\n",
    "reddit_id_id = spark.createDataFrame(rdd_reddit_id_id, reddit_id_id_schema)\n",
    "\n",
    "# Shows 20 reddit_id an reddit_id's id\n",
    "reddit_id_id.show()\n"
   ]
  },
  {
   "cell_type": "code",
   "execution_count": 16,
   "metadata": {},
   "outputs": [
    {
     "name": "stdout",
     "output_type": "stream",
     "text": [
      "+---------+------------------+-----+-----------+------------+--------------------+\n",
      "|reddit_id|          username|score|username_id|reddit_id_id|    score_normalized|\n",
      "+---------+------------------+-----+-----------+------------+--------------------+\n",
      "|   1000xi| theicarusambition|    1|      54614|         395|0.059443263096849025|\n",
      "|   102jwn|   ITookBrandybuck|   15|      54541|         283| 0.06620916296153104|\n",
      "|   102ugj|        SmoresPies|    3|      50910|         454| 0.06040982022037503|\n",
      "|   1051z4|        rozyhammer| 1999|       6769|          27|  1.0250338294993235|\n",
      "|   1053hx|          Levinsky|  428|      50250|          22|  0.2658032089696501|\n",
      "|   106gqm|     Gangsta_Raper|    0|      11151|         188|0.058959984535086024|\n",
      "|   106hkd|       voidworship|  188|       5853|         120| 0.14981635414653005|\n",
      "|   106mxc|Card_Captor_Sakura|    4|      49212|         300| 0.06089309878213802|\n",
      "|   106r51|     Gangsta_Raper|    0|      11151|          38|0.058959984535086024|\n",
      "|   107izk|         KillaM701|    0|      62543|         206|0.058959984535086024|\n",
      "|   107vb8|         viceman99| 2035|      57360|         107|  1.0424318577227916|\n",
      "|   10atdz|     Gangsta_Raper|   93|      11151|         233| 0.10390489077904504|\n",
      "|   10azew|              wr80|  448|      37885|         250|  0.2754687802049101|\n",
      "|   10cdje|      postingtoast|   -4|      25401|          45| 0.05702687028803402|\n",
      "|   10ded9|       sdvaletones|  176|      35964|         455| 0.14401701140537407|\n",
      "|   10ed4b|        srsparkles|   -1|      58956|         356| 0.05847670597332302|\n",
      "|   10ekmj|    ZeBigZebrowski|    4|      48618|         324| 0.06089309878213802|\n",
      "|   10eqyv|    randomperson32|    6|      29269|         128| 0.06185965590566402|\n",
      "|   10esxl|       StellarHero|    0|       6280|         366|0.058959984535086024|\n",
      "|   10ezo9|         Mattoosie|    7|      29156|          10| 0.06234293446742703|\n",
      "+---------+------------------+-----+-----------+------------+--------------------+\n",
      "only showing top 20 rows\n",
      "\n"
     ]
    }
   ],
   "source": [
    "#Join id tables with data table\n",
    "sub = sub.join(username_id, \"username\")\n",
    "sub = sub.join(reddit_id_id, \"reddit_id\")\n",
    "sub = sub.join(score_normalized, \"reddit_id\")\n",
    "\n",
    "# Shows 20 data of joined table\n",
    "sub.show()"
   ]
  },
  {
   "cell_type": "code",
   "execution_count": 18,
   "metadata": {},
   "outputs": [
    {
     "name": "stdout",
     "output_type": "stream",
     "text": [
      "+-----------+------------+--------------------+\n",
      "|username_id|reddit_id_id|    score_normalized|\n",
      "+-----------+------------+--------------------+\n",
      "|      54614|         395|0.059443263096849025|\n",
      "|      54541|         283| 0.06620916296153104|\n",
      "|      50910|         454| 0.06040982022037503|\n",
      "|       6769|          27|  1.0250338294993235|\n",
      "|      50250|          22|  0.2658032089696501|\n",
      "|      11151|         188|0.058959984535086024|\n",
      "|       5853|         120| 0.14981635414653005|\n",
      "|      49212|         300| 0.06089309878213802|\n",
      "|      11151|          38|0.058959984535086024|\n",
      "|      62543|         206|0.058959984535086024|\n",
      "|      57360|         107|  1.0424318577227916|\n",
      "|      11151|         233| 0.10390489077904504|\n",
      "|      37885|         250|  0.2754687802049101|\n",
      "|      25401|          45| 0.05702687028803402|\n",
      "|      35964|         455| 0.14401701140537407|\n",
      "|      58956|         356| 0.05847670597332302|\n",
      "|      48618|         324| 0.06089309878213802|\n",
      "|      29269|         128| 0.06185965590566402|\n",
      "|       6280|         366|0.058959984535086024|\n",
      "|      29156|          10| 0.06234293446742703|\n",
      "+-----------+------------+--------------------+\n",
      "only showing top 20 rows\n",
      "\n"
     ]
    }
   ],
   "source": [
    "# Select processed columns from joined table\n",
    "s = sub.select('username_id', 'reddit_id_id', 'score_normalized')\n",
    "\n",
    "# Shows 20 datas of selected columns\n",
    "s.show()"
   ]
  },
  {
   "cell_type": "markdown",
   "metadata": {},
   "source": [
    "# Processing Data"
   ]
  },
  {
   "cell_type": "code",
   "execution_count": 19,
   "metadata": {},
   "outputs": [],
   "source": [
    "# Import required library for processing data\n",
    "from pyspark.ml.recommendation import ALS\n",
    "from pyspark.ml.evaluation import RegressionEvaluator\n",
    "\n",
    "# Split data into train and test data randomly\n",
    "(train, test) = s.randomSplit([0.8, 0.2])"
   ]
  },
  {
   "cell_type": "code",
   "execution_count": 20,
   "metadata": {},
   "outputs": [],
   "source": [
    "# Build the recommendation model using ALS on the training data\n",
    "# Note we set cold start strategy to 'drop' to ensure we don't get NaN evaluation metrics\n",
    "als = ALS(maxIter=5, regParam=0.01, userCol=\"username_id\", itemCol=\"reddit_id_id\", ratingCol=\"score_normalized\",\n",
    "          coldStartStrategy=\"drop\")\n",
    "model = als.fit(train)"
   ]
  },
  {
   "cell_type": "code",
   "execution_count": 22,
   "metadata": {},
   "outputs": [
    {
     "name": "stdout",
     "output_type": "stream",
     "text": [
      "Root-mean-square error = 0.01078428836361627\n"
     ]
    }
   ],
   "source": [
    "# Evaluate the model by computing the RMSE on the test data\n",
    "predictions = model.transform(test)\n",
    "evaluator = RegressionEvaluator(metricName=\"rmse\", labelCol=\"score_normalized\",\n",
    "                                predictionCol=\"prediction\")\n",
    "rmse = evaluator.evaluate(predictions)\n",
    "print(\"Root-mean-square error = \" + str(rmse))"
   ]
  },
  {
   "cell_type": "code",
   "execution_count": 23,
   "metadata": {},
   "outputs": [
    {
     "name": "stdout",
     "output_type": "stream",
     "text": [
      "+-----------+--------------------+\n",
      "|username_id|     recommendations|\n",
      "+-----------+--------------------+\n",
      "|        148|[[96952, 0.456870...|\n",
      "|        463|[[96952, 0.414847...|\n",
      "|        471|[[82820, 0.667997...|\n",
      "|        496|[[59755, 0.454210...|\n",
      "|        833|[[16407, 1.086788...|\n",
      "|       1088|[[34964, 3.821365...|\n",
      "|       1238|[[5800, 1.1140206...|\n",
      "|       1342|[[93421, 0.373076...|\n",
      "|       1580|[[7981, 0.6689435...|\n",
      "|       1591|[[96952, 0.903193...|\n",
      "|       1645|[[86405, 0.355782...|\n",
      "|       1829|[[59755, 0.556376...|\n",
      "|       1959|[[43167, 2.730705...|\n",
      "|       2122|[[76635, 0.456862...|\n",
      "|       2142|[[34964, 1.810586...|\n",
      "|       2659|[[86405, 0.533266...|\n",
      "|       2866|[[61828, 1.150037...|\n",
      "|       3175|[[96952, 1.465660...|\n",
      "|       3749|[[43167, 0.582927...|\n",
      "|       3794|[[40947, 1.567295...|\n",
      "+-----------+--------------------+\n",
      "only showing top 20 rows\n",
      "\n"
     ]
    }
   ],
   "source": [
    "# Get top 5 reddit_id (thread) recommendations for each username\n",
    "user_recs = model.recommendForAllUsers(5)\n",
    "\n",
    "# Shows 20 reddit_id (thread) recommendations for each username\n",
    "user_recs.show()"
   ]
  },
  {
   "cell_type": "code",
   "execution_count": 24,
   "metadata": {},
   "outputs": [
    {
     "name": "stdout",
     "output_type": "stream",
     "text": [
      "+------------+--------------------+\n",
      "|reddit_id_id|     recommendations|\n",
      "+------------+--------------------+\n",
      "|         148|[[8096, 0.0863949...|\n",
      "|         471|[[55385, 0.213137...|\n",
      "|         833|[[55635, 0.185374...|\n",
      "|        1088|[[63336, 1.065810...|\n",
      "|        1238|[[48804, 0.159746...|\n",
      "|        1342|[[15633, 0.204311...|\n",
      "|        1580|[[12795, 0.198389...|\n",
      "|        1591|[[55580, 0.515716...|\n",
      "|        1645|[[47318, 0.074004...|\n",
      "|        1829|[[32037, 0.470365...|\n",
      "|        1959|[[15597, 0.194494...|\n",
      "|        2142|[[38379, 0.195518...|\n",
      "|        3175|[[40329, 1.009310...|\n",
      "|        3794|[[2109, 0.1939718...|\n",
      "|        3918|[[47813, 0.887412...|\n",
      "|        3997|[[51137, 0.208381...|\n",
      "|        4519|[[12225, 0.975640...|\n",
      "|        4818|[[47119, 0.110173...|\n",
      "|        5156|[[21294, 0.403806...|\n",
      "|        5300|[[7082, 0.1946166...|\n",
      "+------------+--------------------+\n",
      "only showing top 20 rows\n",
      "\n"
     ]
    }
   ],
   "source": [
    "# Get top 5 username recommendations for each reddit_id (thread)\n",
    "thread_recs = model.recommendForAllItems(5)\n",
    "\n",
    "# Shows 20 username recommendations for each reddit_id (thread)\n",
    "thread_recs.show()"
   ]
  },
  {
   "cell_type": "code",
   "execution_count": null,
   "metadata": {},
   "outputs": [],
   "source": []
  }
 ],
 "metadata": {
  "kernelspec": {
   "display_name": "Python 3",
   "language": "python",
   "name": "python3"
  },
  "language_info": {
   "codemirror_mode": {
    "name": "ipython",
    "version": 3
   },
   "file_extension": ".py",
   "mimetype": "text/x-python",
   "name": "python",
   "nbconvert_exporter": "python",
   "pygments_lexer": "ipython3",
   "version": "3.6.4"
  }
 },
 "nbformat": 4,
 "nbformat_minor": 2
}
