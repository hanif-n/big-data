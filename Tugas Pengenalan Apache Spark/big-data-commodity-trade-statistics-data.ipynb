{
 "cells": [
  {
   "cell_type": "markdown",
   "metadata": {},
   "source": [
    "# Spark Initialization"
   ]
  },
  {
   "cell_type": "code",
   "execution_count": 1,
   "metadata": {},
   "outputs": [],
   "source": [
    "# Import findspark to read SPARK_HOME and HADOOP_HOME\n",
    "import findspark\n",
    "findspark.init()"
   ]
  },
  {
   "cell_type": "code",
   "execution_count": 2,
   "metadata": {},
   "outputs": [
    {
     "name": "stdout",
     "output_type": "stream",
     "text": [
      "<pyspark.sql.session.SparkSession object at 0x0000020CE89784E0>\n"
     ]
    }
   ],
   "source": [
    "# Import required library\n",
    "from pyspark.sql import SparkSession\n",
    "\n",
    "# Create Spark Session\n",
    "spark = SparkSession.builder.appName(\"Global Commodity Trade Statistics\").getOrCreate()\n",
    "\n",
    "# Print Spark object ID\n",
    "print(spark)"
   ]
  },
  {
   "cell_type": "markdown",
   "metadata": {},
   "source": [
    "# Loading Data using Spark"
   ]
  },
  {
   "cell_type": "code",
   "execution_count": 3,
   "metadata": {},
   "outputs": [],
   "source": [
    "# Dataset could be downloaded at https://www.kaggle.com/unitednations/global-commodity-trade-statistics\n",
    "df = spark.read.csv(\"D:/kuliah/bigdata/commodity_trade_statistics_data.csv\", header=True, inferSchema=True)"
   ]
  },
  {
   "cell_type": "code",
   "execution_count": 4,
   "metadata": {},
   "outputs": [
    {
     "name": "stdout",
     "output_type": "stream",
     "text": [
      "+---------------+----+---------+--------------------+------+---------+---------+---------------+--------+---------------+\n",
      "|country_or_area|year|comm_code|           commodity|  flow|trade_usd|weight_kg|  quantity_name|quantity|       category|\n",
      "+---------------+----+---------+--------------------+------+---------+---------+---------------+--------+---------------+\n",
      "|    Afghanistan|2016|   010410|         Sheep, live|Export|     6088|     2339|Number of items|      51|01_live_animals|\n",
      "|    Afghanistan|2016|   010420|         Goats, live|Export|     3958|      984|Number of items|      53|01_live_animals|\n",
      "|    Afghanistan|2008|   010210|Bovine animals, l...|Import|  1026804|      272|Number of items|    3769|01_live_animals|\n",
      "|        Albania|2016|   010290|Bovine animals, l...|Import|  2414533|  1114023|Number of items|    6853|01_live_animals|\n",
      "|        Albania|2016|   010392|Swine, live excep...|Import| 14265937|  9484953|Number of items|   96040|01_live_animals|\n",
      "|        Albania|2016|   010511|Fowls, live domes...|Import|  2671732|   254652|Number of items| 5629138|01_live_animals|\n",
      "|        Albania|2016|   010511|Fowls, live domes...|Export|    87581|     5320|Number of items|  115180|01_live_animals|\n",
      "|        Albania|2016|   010519|Poultry, live exc...|Import|    26485|     2908|Number of items|   64000|01_live_animals|\n",
      "|        Albania|2016|   010591|Fowls, live domes...|Import|  2421513|  1926850|Number of items| 1006990|01_live_animals|\n",
      "|        Albania|2016|   010599|Poultry, live exc...|Import|   251318|   211177|Number of items|  205124|01_live_animals|\n",
      "|        Albania|2016|   010600|Animals, live, ex...|Export|   584025|    59521|Number of items|   59521|01_live_animals|\n",
      "|        Albania|2015|   010290|Bovine animals, l...|Import|  7264642|  3519352|Number of items|   18641|01_live_animals|\n",
      "|        Albania|2015|   010391|Swine, live excep...|Import|    45843|    29930|Number of items|     795|01_live_animals|\n",
      "|        Albania|2015|   010392|Swine, live excep...|Import| 14031292|  9439974|Number of items|   93222|01_live_animals|\n",
      "|        Albania|2015|   010511|Fowls, live domes...|Import|  2357680|   264599|Number of items| 4995885|01_live_animals|\n",
      "|        Albania|2015|   010519|Poultry, live exc...|Import|    32327|     3843|Number of items|   80880|01_live_animals|\n",
      "|        Albania|2015|   010591|Fowls, live domes...|Import|  2453360|  2133310|Number of items| 1169944|01_live_animals|\n",
      "|        Albania|2015|   010599|Poultry, live exc...|Import|   300813|   258566|Number of items|48170912|01_live_animals|\n",
      "|        Albania|2015|   010600|Animals, live, ex...|Export|   636184|    80774|Number of items|   80694|01_live_animals|\n",
      "|        Albania|2014|   010290|Bovine animals, l...|Import|  8158583|  4080294|Number of items|   18688|01_live_animals|\n",
      "+---------------+----+---------+--------------------+------+---------+---------+---------------+--------+---------------+\n",
      "only showing top 20 rows\n",
      "\n"
     ]
    }
   ],
   "source": [
    "df.show()"
   ]
  },
  {
   "cell_type": "code",
   "execution_count": 5,
   "metadata": {},
   "outputs": [
    {
     "data": {
      "text/plain": [
       "8226597"
      ]
     },
     "execution_count": 5,
     "metadata": {},
     "output_type": "execute_result"
    }
   ],
   "source": [
    "df.count()"
   ]
  },
  {
   "cell_type": "code",
   "execution_count": 6,
   "metadata": {},
   "outputs": [
    {
     "data": {
      "text/plain": [
       "StructType(List(StructField(country_or_area,StringType,true),StructField(year,IntegerType,true),StructField(comm_code,StringType,true),StructField(commodity,StringType,true),StructField(flow,StringType,true),StructField(trade_usd,LongType,true),StructField(weight_kg,LongType,true),StructField(quantity_name,StringType,true),StructField(quantity,DecimalType(20,0),true),StructField(category,StringType,true)))"
      ]
     },
     "execution_count": 6,
     "metadata": {},
     "output_type": "execute_result"
    }
   ],
   "source": [
    "df.schema"
   ]
  },
  {
   "cell_type": "code",
   "execution_count": 7,
   "metadata": {},
   "outputs": [],
   "source": [
    "# Register the DataFrame as a SQL temporary view\n",
    "df.createOrReplaceTempView(\"commodity_trade\")"
   ]
  },
  {
   "cell_type": "code",
   "execution_count": 8,
   "metadata": {},
   "outputs": [],
   "source": [
    "result = spark.sql(\"SELECT DISTINCT commodity FROM commodity_trade\")"
   ]
  },
  {
   "cell_type": "code",
   "execution_count": 9,
   "metadata": {},
   "outputs": [
    {
     "name": "stdout",
     "output_type": "stream",
     "text": [
      "+--------------------+\n",
      "|           commodity|\n",
      "+--------------------+\n",
      "|Ash or residues c...|\n",
      "|Coal briquettes, ...|\n",
      "|Amino-naphthols/p...|\n",
      "|Polyesters nes, u...|\n",
      "|Filament tow of a...|\n",
      "|Twine, cordage, r...|\n",
      "|Woven pile fabric...|\n",
      "|Mens, boys underp...|\n",
      "|Mens, boys dressi...|\n",
      "|Used or new rags ...|\n",
      "|Ceramic houseware...|\n",
      "|Blades for kitche...|\n",
      "|Machinery to reel...|\n",
      "|Coal or rock cutt...|\n",
      "|Primary cells, pr...|\n",
      "|Brakes except air...|\n",
      "|Thermo-copying ap...|\n",
      "| Cheese, blue-veined|\n",
      "|Hair, human, unwo...|\n",
      "|Sunflower or saff...|\n",
      "+--------------------+\n",
      "only showing top 20 rows\n",
      "\n"
     ]
    }
   ],
   "source": [
    "result.show()"
   ]
  },
  {
   "cell_type": "markdown",
   "metadata": {},
   "source": [
    "# Data Mining Process"
   ]
  },
  {
   "cell_type": "code",
   "execution_count": 10,
   "metadata": {},
   "outputs": [],
   "source": [
    "# 1. Find max commodity trade in USD by country\n",
    "query1 = spark.sql(\"SELECT a.country_or_area, a.year, a.commodity, a.flow, a.trade_usd \\\n",
    "FROM commodity_trade a \\\n",
    "INNER JOIN ( \\\n",
    "    SELECT MAX(trade_usd) AS maxtrade, country_or_area \\\n",
    "    FROM commodity_trade \\\n",
    "    WHERE comm_code != 'TOTAL' \\\n",
    "    GROUP BY country_or_area) b \\\n",
    "ON a.trade_usd = b.maxtrade \\\n",
    "AND a.country_or_area = b.country_or_area \\\n",
    "ORDER BY a.country_or_area\")"
   ]
  },
  {
   "cell_type": "code",
   "execution_count": 11,
   "metadata": {},
   "outputs": [
    {
     "name": "stdout",
     "output_type": "stream",
     "text": [
      "+-------------------+----+--------------------+------+-----------+\n",
      "|    country_or_area|year|           commodity|  flow|  trade_usd|\n",
      "+-------------------+----+--------------------+------+-----------+\n",
      "|        Afghanistan|2013|Commodities not s...|Import| 5857516532|\n",
      "|            Albania|2014|Commodities not s...|Import| 2250573559|\n",
      "|            Algeria|2008|Petroleum oils, o...|Export|41649283779|\n",
      "|            Andorra|2012|Oils petroleum, b...|Import|  154268123|\n",
      "|             Angola|2012|Petroleum oils, o...|Export|68863266749|\n",
      "|           Anguilla|2008|Commodities not s...|Import|   73431281|\n",
      "|Antigua and Barbuda|2009|Commodities not s...|Import|  267436094|\n",
      "|          Argentina|2014|Soya-bean oil-cak...|Export|11837635727|\n",
      "|            Armenia|2013|Natural gas in ga...|Import|  571766320|\n",
      "|              Aruba|2007|Commodities not s...|Import| 1113876882|\n",
      "|              Aruba|2007|     ALL COMMODITIES|Import| 1113876882|\n",
      "|          Australia|2013|Iron ore, concent...|Export|66917183629|\n",
      "|            Austria|2012|Oils petroleum, b...|Import| 7330572929|\n",
      "|         Azerbaijan|2008|Petroleum oils, o...|Export|44170910610|\n",
      "|            Bahamas|2011|Oils petroleum, b...|Import|  908713353|\n",
      "|            Bahrain|2011|Oils petroleum, b...|Export|15526109443|\n",
      "|         Bangladesh|2015|T-shirts, singlet...|Export| 5788902054|\n",
      "|           Barbados|2012|Oils petroleum, b...|Import|  533918798|\n",
      "|            Belarus|2012|Oils petroleum, b...|Export|14505047000|\n",
      "|            Belgium|2013|Oils petroleum, b...|Export|48750489370|\n",
      "+-------------------+----+--------------------+------+-----------+\n",
      "only showing top 20 rows\n",
      "\n"
     ]
    }
   ],
   "source": [
    "query1.show()"
   ]
  },
  {
   "cell_type": "code",
   "execution_count": 12,
   "metadata": {},
   "outputs": [],
   "source": [
    "# 2. Sum total trade by USD for each year\n",
    "query2 = spark.sql(\"SELECT year, SUM(trade_usd) \\\n",
    "FROM commodity_trade \\\n",
    "GROUP BY year \\\n",
    "ORDER BY year\")"
   ]
  },
  {
   "cell_type": "code",
   "execution_count": 13,
   "metadata": {},
   "outputs": [
    {
     "name": "stdout",
     "output_type": "stream",
     "text": [
      "+----+--------------+\n",
      "|year|sum(trade_usd)|\n",
      "+----+--------------+\n",
      "|null|          null|\n",
      "|1988| 1919212691750|\n",
      "|1989| 3121488716188|\n",
      "|1990| 3661899612274|\n",
      "|1991| 4997632816808|\n",
      "|1992| 6356089390115|\n",
      "|1993| 7501579992911|\n",
      "|1994| 9992199334037|\n",
      "|1995|12536445490812|\n",
      "|1996|13383105467754|\n",
      "|1997|14163002577080|\n",
      "|1998|13988907513103|\n",
      "|1999|14496904257308|\n",
      "|2000|19324976747277|\n",
      "|2001|18758192334353|\n",
      "|2002|19762219985016|\n",
      "|2003|23115762568721|\n",
      "|2004|28122945047934|\n",
      "|2005|31688587865168|\n",
      "|2006|37105513485784|\n",
      "+----+--------------+\n",
      "only showing top 20 rows\n",
      "\n"
     ]
    }
   ],
   "source": [
    "query2.show()"
   ]
  },
  {
   "cell_type": "code",
   "execution_count": 14,
   "metadata": {},
   "outputs": [],
   "source": [
    "# 3. Select most traded commodity in USD for each year\n",
    "query3 = spark.sql(\"SELECT a.year, a.commodity, a.max_trade_usd \\\n",
    "FROM ( \\\n",
    "    SELECT year, commodity, SUM(trade_usd) AS max_trade_usd \\\n",
    "    FROM commodity_trade \\\n",
    "    GROUP BY commodity, year) a \\\n",
    "INNER JOIN ( \\\n",
    "    SELECT year, MAX(sum_trade_usd) AS max_trade_usd \\\n",
    "    FROM ( \\\n",
    "        SELECT year, commodity, SUM(trade_usd) AS sum_trade_usd \\\n",
    "        FROM commodity_trade \\\n",
    "        WHERE comm_code != 'TOTAL' \\\n",
    "        GROUP BY year, commodity) \\\n",
    "    GROUP BY year) b \\\n",
    "ON a.year = b.year \\\n",
    "AND a.max_trade_usd = b.max_trade_usd \\\n",
    "ORDER BY a.year\")"
   ]
  },
  {
   "cell_type": "code",
   "execution_count": 15,
   "metadata": {},
   "outputs": [
    {
     "name": "stdout",
     "output_type": "stream",
     "text": [
      "+----+--------------------+-------------+\n",
      "|year|           commodity|max_trade_usd|\n",
      "+----+--------------------+-------------+\n",
      "|1988|Petroleum oils, o...|  31491572782|\n",
      "|1989|Petroleum oils, o...|  56593730006|\n",
      "|1990|Petroleum oils, o...|  79537679505|\n",
      "|1991|Commodities not s...|  90353423662|\n",
      "|1992|Commodities not s...| 120430688413|\n",
      "|1993|Commodities not s...| 151068532283|\n",
      "|1994|Commodities not s...| 166493377181|\n",
      "|1995|Commodities not s...| 225939047916|\n",
      "|1996|Commodities not s...| 255739729899|\n",
      "|1997|Commodities not s...| 268421077555|\n",
      "|1998|Commodities not s...| 238647823138|\n",
      "|1999|Commodities not s...| 255391416670|\n",
      "|2000|Commodities not s...| 588660760125|\n",
      "|2001|Commodities not s...| 534924276270|\n",
      "|2002|Commodities not s...| 635556526098|\n",
      "|2003|Commodities not s...| 748332948062|\n",
      "|2004|Commodities not s...| 937104726181|\n",
      "|2005|Petroleum oils, o...| 803185443958|\n",
      "|2006|Commodities not s...|1178855125851|\n",
      "|2007|Petroleum oils, o...|1154022544567|\n",
      "+----+--------------------+-------------+\n",
      "only showing top 20 rows\n",
      "\n"
     ]
    }
   ],
   "source": [
    "query3.show()"
   ]
  },
  {
   "cell_type": "code",
   "execution_count": 16,
   "metadata": {},
   "outputs": [],
   "source": [
    "# 4. Select exported commodities by country\n",
    "query4 = spark.sql(\"SELECT country_or_area, commodity \\\n",
    "FROM commodity_trade \\\n",
    "WHERE flow = 'Export' \\\n",
    "GROUP BY commodity, country_or_area \\\n",
    "ORDER BY country_or_area, commodity\")"
   ]
  },
  {
   "cell_type": "code",
   "execution_count": 17,
   "metadata": {},
   "outputs": [
    {
     "name": "stdout",
     "output_type": "stream",
     "text": [
      "+---------------+--------------------+\n",
      "|country_or_area|           commodity|\n",
      "+---------------+--------------------+\n",
      "|    Afghanistan|     ALL COMMODITIES|\n",
      "|    Afghanistan|Almonds in shell ...|\n",
      "|    Afghanistan|Almonds,fresh or ...|\n",
      "|    Afghanistan|Antiques older th...|\n",
      "|    Afghanistan|     Apricots, dried|\n",
      "|    Afghanistan|     Apricots, fresh|\n",
      "|    Afghanistan|Articles for pock...|\n",
      "|    Afghanistan|              Barley|\n",
      "|    Afghanistan|Brazil nuts, fres...|\n",
      "|    Afghanistan|Carpets of wool o...|\n",
      "|    Afghanistan|Cashew nuts, fres...|\n",
      "|    Afghanistan|Cauliflowers and ...|\n",
      "|    Afghanistan|Chemical industry...|\n",
      "|    Afghanistan|Citrus juice nes ...|\n",
      "|    Afghanistan|Coal except anthr...|\n",
      "|    Afghanistan|Commodities not s...|\n",
      "|    Afghanistan|     Coriander seeds|\n",
      "|    Afghanistan|         Cumin seeds|\n",
      "|    Afghanistan|Emery & natural a...|\n",
      "|    Afghanistan|Figs, fresh or dried|\n",
      "+---------------+--------------------+\n",
      "only showing top 20 rows\n",
      "\n"
     ]
    }
   ],
   "source": [
    "query4.show()"
   ]
  }
 ],
 "metadata": {
  "kernelspec": {
   "display_name": "Python 3",
   "language": "python",
   "name": "python3"
  },
  "language_info": {
   "codemirror_mode": {
    "name": "ipython",
    "version": 3
   },
   "file_extension": ".py",
   "mimetype": "text/x-python",
   "name": "python",
   "nbconvert_exporter": "python",
   "pygments_lexer": "ipython3",
   "version": "3.6.4"
  }
 },
 "nbformat": 4,
 "nbformat_minor": 2
}
