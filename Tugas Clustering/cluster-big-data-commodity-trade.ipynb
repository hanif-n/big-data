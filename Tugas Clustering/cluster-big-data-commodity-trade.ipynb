{
 "cells": [
  {
   "cell_type": "markdown",
   "metadata": {},
   "source": [
    "# Spark Initialization"
   ]
  },
  {
   "cell_type": "code",
   "execution_count": 1,
   "metadata": {},
   "outputs": [],
   "source": [
    "# Import findspark to read SPARK_HOME and HADOOP_HOME\n",
    "import findspark\n",
    "findspark.init()"
   ]
  },
  {
   "cell_type": "code",
   "execution_count": 2,
   "metadata": {},
   "outputs": [
    {
     "name": "stdout",
     "output_type": "stream",
     "text": [
      "<pyspark.sql.session.SparkSession object at 0x000002F2136E85F8>\n"
     ]
    }
   ],
   "source": [
    "# Import required library\n",
    "from pyspark.sql import SparkSession\n",
    "\n",
    "# Create Spark Session\n",
    "spark = SparkSession.builder.appName(\"Global Commodity Trade Statistics\").getOrCreate()\n",
    "\n",
    "# Print Spark object ID\n",
    "print(spark)"
   ]
  },
  {
   "cell_type": "markdown",
   "metadata": {},
   "source": [
    "# Loading Data using Spark"
   ]
  },
  {
   "cell_type": "code",
   "execution_count": 3,
   "metadata": {},
   "outputs": [],
   "source": [
    "# Dataset could be downloaded at https://www.kaggle.com/unitednations/global-commodity-trade-statistics\n",
    "df = spark.read.csv(\"D:/kuliah/bigdata/commodity_trade_statistics_data.csv\", header=True, inferSchema=True)"
   ]
  },
  {
   "cell_type": "code",
   "execution_count": 4,
   "metadata": {},
   "outputs": [
    {
     "name": "stdout",
     "output_type": "stream",
     "text": [
      "+---------------+----+---------+--------------------+------+---------+---------+---------------+--------+---------------+\n",
      "|country_or_area|year|comm_code|           commodity|  flow|trade_usd|weight_kg|  quantity_name|quantity|       category|\n",
      "+---------------+----+---------+--------------------+------+---------+---------+---------------+--------+---------------+\n",
      "|    Afghanistan|2016|   010410|         Sheep, live|Export|     6088|     2339|Number of items|      51|01_live_animals|\n",
      "|    Afghanistan|2016|   010420|         Goats, live|Export|     3958|      984|Number of items|      53|01_live_animals|\n",
      "|    Afghanistan|2008|   010210|Bovine animals, l...|Import|  1026804|      272|Number of items|    3769|01_live_animals|\n",
      "|        Albania|2016|   010290|Bovine animals, l...|Import|  2414533|  1114023|Number of items|    6853|01_live_animals|\n",
      "|        Albania|2016|   010392|Swine, live excep...|Import| 14265937|  9484953|Number of items|   96040|01_live_animals|\n",
      "|        Albania|2016|   010511|Fowls, live domes...|Import|  2671732|   254652|Number of items| 5629138|01_live_animals|\n",
      "|        Albania|2016|   010511|Fowls, live domes...|Export|    87581|     5320|Number of items|  115180|01_live_animals|\n",
      "|        Albania|2016|   010519|Poultry, live exc...|Import|    26485|     2908|Number of items|   64000|01_live_animals|\n",
      "|        Albania|2016|   010591|Fowls, live domes...|Import|  2421513|  1926850|Number of items| 1006990|01_live_animals|\n",
      "|        Albania|2016|   010599|Poultry, live exc...|Import|   251318|   211177|Number of items|  205124|01_live_animals|\n",
      "|        Albania|2016|   010600|Animals, live, ex...|Export|   584025|    59521|Number of items|   59521|01_live_animals|\n",
      "|        Albania|2015|   010290|Bovine animals, l...|Import|  7264642|  3519352|Number of items|   18641|01_live_animals|\n",
      "|        Albania|2015|   010391|Swine, live excep...|Import|    45843|    29930|Number of items|     795|01_live_animals|\n",
      "|        Albania|2015|   010392|Swine, live excep...|Import| 14031292|  9439974|Number of items|   93222|01_live_animals|\n",
      "|        Albania|2015|   010511|Fowls, live domes...|Import|  2357680|   264599|Number of items| 4995885|01_live_animals|\n",
      "|        Albania|2015|   010519|Poultry, live exc...|Import|    32327|     3843|Number of items|   80880|01_live_animals|\n",
      "|        Albania|2015|   010591|Fowls, live domes...|Import|  2453360|  2133310|Number of items| 1169944|01_live_animals|\n",
      "|        Albania|2015|   010599|Poultry, live exc...|Import|   300813|   258566|Number of items|48170912|01_live_animals|\n",
      "|        Albania|2015|   010600|Animals, live, ex...|Export|   636184|    80774|Number of items|   80694|01_live_animals|\n",
      "|        Albania|2014|   010290|Bovine animals, l...|Import|  8158583|  4080294|Number of items|   18688|01_live_animals|\n",
      "+---------------+----+---------+--------------------+------+---------+---------+---------------+--------+---------------+\n",
      "only showing top 20 rows\n",
      "\n"
     ]
    }
   ],
   "source": [
    "# Print top 20 rows data\n",
    "df.show()"
   ]
  },
  {
   "cell_type": "code",
   "execution_count": 5,
   "metadata": {},
   "outputs": [],
   "source": [
    "# Register the DataFrame as a SQL temporary view\n",
    "df.createOrReplaceTempView(\"commodity_trade\")"
   ]
  },
  {
   "cell_type": "markdown",
   "metadata": {},
   "source": [
    "# Preparing Data"
   ]
  },
  {
   "cell_type": "code",
   "execution_count": 6,
   "metadata": {},
   "outputs": [
    {
     "name": "stdout",
     "output_type": "stream",
     "text": [
      "+---------------+---------+--------------------+------+---------+\n",
      "|country_or_area|comm_code|           commodity|  flow|trade_usd|\n",
      "+---------------+---------+--------------------+------+---------+\n",
      "|    Afghanistan|    10410|         Sheep, live|Export|     6088|\n",
      "|    Afghanistan|    10420|         Goats, live|Export|     3958|\n",
      "|    Afghanistan|    10210|Bovine animals, l...|Import|  1026804|\n",
      "|        Albania|    10290|Bovine animals, l...|Import|  2414533|\n",
      "|        Albania|    10392|Swine, live excep...|Import| 14265937|\n",
      "|        Albania|    10511|Fowls, live domes...|Import|  2671732|\n",
      "|        Albania|    10511|Fowls, live domes...|Export|    87581|\n",
      "|        Albania|    10519|Poultry, live exc...|Import|    26485|\n",
      "|        Albania|    10591|Fowls, live domes...|Import|  2421513|\n",
      "|        Albania|    10599|Poultry, live exc...|Import|   251318|\n",
      "|        Albania|    10600|Animals, live, ex...|Export|   584025|\n",
      "|        Albania|    10290|Bovine animals, l...|Import|  7264642|\n",
      "|        Albania|    10391|Swine, live excep...|Import|    45843|\n",
      "|        Albania|    10392|Swine, live excep...|Import| 14031292|\n",
      "|        Albania|    10511|Fowls, live domes...|Import|  2357680|\n",
      "|        Albania|    10519|Poultry, live exc...|Import|    32327|\n",
      "|        Albania|    10591|Fowls, live domes...|Import|  2453360|\n",
      "|        Albania|    10599|Poultry, live exc...|Import|   300813|\n",
      "|        Albania|    10600|Animals, live, ex...|Export|   636184|\n",
      "|        Albania|    10290|Bovine animals, l...|Import|  8158583|\n",
      "+---------------+---------+--------------------+------+---------+\n",
      "only showing top 20 rows\n",
      "\n"
     ]
    }
   ],
   "source": [
    "# Data that used are Country of Area, Commodity Code, Commodity, Flow, and Trade USD, excluded uncategorized comm_code.\n",
    "data = spark.sql(\"SELECT country_or_area, comm_code, commodity, flow, trade_usd \\\n",
    "FROM commodity_trade \\\n",
    "WHERE CHAR_LENGTH(comm_code) = 6 \\\n",
    "AND comm_code IS NOT NULL \\\n",
    "AND comm_code != '9999AA' \\\n",
    "AND comm_code != '999999' \\\n",
    "AND comm_code != '380993' \\\n",
    "AND trade_usd IS NOT NULL\")\n",
    "data = data.withColumn(\"comm_code\", data[\"comm_code\"].cast(\"int\"))\n",
    "data.show()"
   ]
  },
  {
   "cell_type": "markdown",
   "metadata": {},
   "source": [
    "# Assembling Vector From Data"
   ]
  },
  {
   "cell_type": "code",
   "execution_count": 7,
   "metadata": {},
   "outputs": [],
   "source": [
    "# Import VectorAssembler\n",
    "from pyspark.ml.feature import VectorAssembler"
   ]
  },
  {
   "cell_type": "code",
   "execution_count": 8,
   "metadata": {},
   "outputs": [
    {
     "name": "stdout",
     "output_type": "stream",
     "text": [
      "+---------------+---------+--------------------+------+---------+--------------------+\n",
      "|country_or_area|comm_code|           commodity|  flow|trade_usd|            features|\n",
      "+---------------+---------+--------------------+------+---------+--------------------+\n",
      "|    Afghanistan|    10410|         Sheep, live|Export|     6088|    [10410.0,6088.0]|\n",
      "|    Afghanistan|    10420|         Goats, live|Export|     3958|    [10420.0,3958.0]|\n",
      "|    Afghanistan|    10210|Bovine animals, l...|Import|  1026804| [10210.0,1026804.0]|\n",
      "|        Albania|    10290|Bovine animals, l...|Import|  2414533| [10290.0,2414533.0]|\n",
      "|        Albania|    10392|Swine, live excep...|Import| 14265937|[10392.0,1.426593...|\n",
      "|        Albania|    10511|Fowls, live domes...|Import|  2671732| [10511.0,2671732.0]|\n",
      "|        Albania|    10511|Fowls, live domes...|Export|    87581|   [10511.0,87581.0]|\n",
      "|        Albania|    10519|Poultry, live exc...|Import|    26485|   [10519.0,26485.0]|\n",
      "|        Albania|    10591|Fowls, live domes...|Import|  2421513| [10591.0,2421513.0]|\n",
      "|        Albania|    10599|Poultry, live exc...|Import|   251318|  [10599.0,251318.0]|\n",
      "|        Albania|    10600|Animals, live, ex...|Export|   584025|  [10600.0,584025.0]|\n",
      "|        Albania|    10290|Bovine animals, l...|Import|  7264642| [10290.0,7264642.0]|\n",
      "|        Albania|    10391|Swine, live excep...|Import|    45843|   [10391.0,45843.0]|\n",
      "|        Albania|    10392|Swine, live excep...|Import| 14031292|[10392.0,1.403129...|\n",
      "|        Albania|    10511|Fowls, live domes...|Import|  2357680| [10511.0,2357680.0]|\n",
      "|        Albania|    10519|Poultry, live exc...|Import|    32327|   [10519.0,32327.0]|\n",
      "|        Albania|    10591|Fowls, live domes...|Import|  2453360| [10591.0,2453360.0]|\n",
      "|        Albania|    10599|Poultry, live exc...|Import|   300813|  [10599.0,300813.0]|\n",
      "|        Albania|    10600|Animals, live, ex...|Export|   636184|  [10600.0,636184.0]|\n",
      "|        Albania|    10290|Bovine animals, l...|Import|  8158583| [10290.0,8158583.0]|\n",
      "+---------------+---------+--------------------+------+---------+--------------------+\n",
      "only showing top 20 rows\n",
      "\n"
     ]
    }
   ],
   "source": [
    "# Set input and output columns and vectorize\n",
    "assembler = VectorAssembler(\n",
    "    inputCols=[\"comm_code\", \"trade_usd\"],\n",
    "    outputCol='features')\n",
    "\n",
    "data = assembler.transform(data)\n",
    "data.show()"
   ]
  },
  {
   "cell_type": "markdown",
   "metadata": {},
   "source": [
    "# Training Model and Prediction"
   ]
  },
  {
   "cell_type": "code",
   "execution_count": 9,
   "metadata": {},
   "outputs": [],
   "source": [
    "# Import KMeans and ClusteringEvaluator\n",
    "from pyspark.ml.clustering import KMeans"
   ]
  },
  {
   "cell_type": "code",
   "execution_count": 10,
   "metadata": {},
   "outputs": [],
   "source": [
    "# Train Model\n",
    "kmeans = KMeans().setK(2).setSeed(1)\n",
    "model = kmeans.fit(data)"
   ]
  },
  {
   "cell_type": "code",
   "execution_count": 11,
   "metadata": {},
   "outputs": [
    {
     "name": "stdout",
     "output_type": "stream",
     "text": [
      "+---------------+---------+--------------------+------+---------+--------------------+----------+\n",
      "|country_or_area|comm_code|           commodity|  flow|trade_usd|            features|prediction|\n",
      "+---------------+---------+--------------------+------+---------+--------------------+----------+\n",
      "|    Afghanistan|    10410|         Sheep, live|Export|     6088|    [10410.0,6088.0]|         0|\n",
      "|    Afghanistan|    10420|         Goats, live|Export|     3958|    [10420.0,3958.0]|         0|\n",
      "|    Afghanistan|    10210|Bovine animals, l...|Import|  1026804| [10210.0,1026804.0]|         0|\n",
      "|        Albania|    10290|Bovine animals, l...|Import|  2414533| [10290.0,2414533.0]|         0|\n",
      "|        Albania|    10392|Swine, live excep...|Import| 14265937|[10392.0,1.426593...|         0|\n",
      "|        Albania|    10511|Fowls, live domes...|Import|  2671732| [10511.0,2671732.0]|         0|\n",
      "|        Albania|    10511|Fowls, live domes...|Export|    87581|   [10511.0,87581.0]|         0|\n",
      "|        Albania|    10519|Poultry, live exc...|Import|    26485|   [10519.0,26485.0]|         0|\n",
      "|        Albania|    10591|Fowls, live domes...|Import|  2421513| [10591.0,2421513.0]|         0|\n",
      "|        Albania|    10599|Poultry, live exc...|Import|   251318|  [10599.0,251318.0]|         0|\n",
      "+---------------+---------+--------------------+------+---------+--------------------+----------+\n",
      "only showing top 10 rows\n",
      "\n"
     ]
    }
   ],
   "source": [
    "# Make a prediction\n",
    "predictions = model.transform(data)\n",
    "predictions.show(10)"
   ]
  },
  {
   "cell_type": "markdown",
   "metadata": {},
   "source": [
    "# Evaluate the Cluster"
   ]
  },
  {
   "cell_type": "code",
   "execution_count": 12,
   "metadata": {},
   "outputs": [],
   "source": [
    "# Import KMeans and ClusteringEvaluator\n",
    "from pyspark.ml.evaluation import ClusteringEvaluator"
   ]
  },
  {
   "cell_type": "code",
   "execution_count": 13,
   "metadata": {},
   "outputs": [
    {
     "name": "stdout",
     "output_type": "stream",
     "text": [
      "Silhouette with squared euclidean distance = 0.9999652404664713\n"
     ]
    }
   ],
   "source": [
    "# Evaluate clustering by computing Silhouette score\n",
    "evaluator = ClusteringEvaluator()\n",
    "\n",
    "silhouette = evaluator.evaluate(predictions)\n",
    "print(\"Silhouette with squared euclidean distance = \" + str(silhouette))"
   ]
  },
  {
   "cell_type": "markdown",
   "metadata": {},
   "source": [
    "# Get Cluster Center"
   ]
  },
  {
   "cell_type": "code",
   "execution_count": 14,
   "metadata": {},
   "outputs": [
    {
     "name": "stdout",
     "output_type": "stream",
     "text": [
      "Cluster Centers: \n",
      "[  486053.71953009 19620440.18357156]\n",
      "[3.02722574e+05 1.01702596e+11]\n"
     ]
    }
   ],
   "source": [
    "# Print cluster center\n",
    "centers = model.clusterCenters()\n",
    "print(\"Cluster Centers: \")\n",
    "for center in centers:\n",
    "    print(center)"
   ]
  },
  {
   "cell_type": "markdown",
   "metadata": {},
   "source": [
    "# Visualization"
   ]
  },
  {
   "cell_type": "code",
   "execution_count": 15,
   "metadata": {},
   "outputs": [
    {
     "name": "stdout",
     "output_type": "stream",
     "text": [
      "Pixiedust database opened successfully\n"
     ]
    },
    {
     "data": {
      "text/html": [
       "\n",
       "        <div style=\"margin:10px\">\n",
       "            <a href=\"https://github.com/ibm-watson-data-lab/pixiedust\" target=\"_new\">\n",
       "                <img src=\"https://github.com/ibm-watson-data-lab/pixiedust/raw/master/docs/_static/pd_icon32.png\" style=\"float:left;margin-right:10px\"/>\n",
       "            </a>\n",
       "            <span>Pixiedust version 1.1.15</span>\n",
       "        </div>\n",
       "        "
      ],
      "text/plain": [
       "<IPython.core.display.HTML object>"
      ]
     },
     "metadata": {},
     "output_type": "display_data"
    }
   ],
   "source": [
    "# Import pixiedust to show visualization\n",
    "import pixiedust"
   ]
  },
  {
   "cell_type": "code",
   "execution_count": 16,
   "metadata": {
    "pixiedust": {
     "displayParams": {
      "chartsize": "100",
      "handlerId": "scatterPlot",
      "keyFields": "comm_code",
      "rowCount": "100",
      "stretch": "true",
      "title": "cluster",
      "valueFields": "trade_usd"
     }
    },
    "scrolled": true
   },
   "outputs": [
    {
     "data": {
      "text/html": [
       "<style type=\"text/css\">.pd_warning{display:none;}</style><div class=\"pd_warning\"><em>Hey, there's something awesome here! To see it, open this notebook outside GitHub, in a viewer like Jupyter</em></div>\n",
       "        <div class=\"pd_save is-viewer-good\" style=\"padding-right:10px;text-align: center;line-height:initial !important;font-size: xx-large;font-weight: 500;color: coral;\">\n",
       "            cluster\n",
       "        </div>\n",
       "    <div id=\"chartFigure2be325c6\" class=\"pd_save is-viewer-good\" style=\"overflow-x:auto\">\n",
       "            \n",
       "                    \n",
       "                            <center><img style=\"max-width:initial !important\" src=\"data:image/png;base64,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\" class=\"pd_save\"></center>\n",
       "                        \n",
       "                    \n",
       "                \n",
       "        </div>"
      ],
      "text/plain": [
       "<IPython.core.display.HTML object>"
      ]
     },
     "metadata": {},
     "output_type": "display_data"
    }
   ],
   "source": [
    "# Display visualization of prediction\n",
    "display(predictions)"
   ]
  },
  {
   "cell_type": "markdown",
   "metadata": {},
   "source": [
    "![clusterscatterplot](img/clusterscatterplot.png)"
   ]
  },
  {
   "cell_type": "markdown",
   "metadata": {},
   "source": [
    "![clusterbar](img/clusterbar.png)"
   ]
  }
 ],
 "metadata": {
  "kernelspec": {
   "display_name": "Python 3",
   "language": "python",
   "name": "python3"
  },
  "language_info": {
   "codemirror_mode": {
    "name": "ipython",
    "version": 3
   },
   "file_extension": ".py",
   "mimetype": "text/x-python",
   "name": "python",
   "nbconvert_exporter": "python",
   "pygments_lexer": "ipython3",
   "version": "3.6.4"
  }
 },
 "nbformat": 4,
 "nbformat_minor": 2
}
